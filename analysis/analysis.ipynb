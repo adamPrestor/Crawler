{
 "cells": [
  {
   "cell_type": "code",
   "execution_count": 1,
   "metadata": {},
   "outputs": [],
   "source": [
    "import numpy as np\n",
    "import pandas as pd\n",
    "import matplotlib.pyplot as plt\n",
    "%matplotlib inline"
   ]
  },
  {
   "cell_type": "markdown",
   "metadata": {},
   "source": [
    "## Read data"
   ]
  },
  {
   "cell_type": "code",
   "execution_count": 2,
   "metadata": {},
   "outputs": [],
   "source": [
    "data_folder = 'original'"
   ]
  },
  {
   "cell_type": "code",
   "execution_count": 3,
   "metadata": {
    "scrolled": true
   },
   "outputs": [
    {
     "name": "stderr",
     "output_type": "stream",
     "text": [
      "/Users/lojzezust/opt/miniconda3/lib/python3.7/site-packages/numpy/lib/arraysetops.py:568: FutureWarning: elementwise comparison failed; returning scalar instead, but in the future will perform elementwise comparison\n",
      "  mask |= (ar1 == a)\n"
     ]
    }
   ],
   "source": [
    "pages = pd.read_csv(f'data/{data_folder}/pages.csv', index_col=0)\n",
    "images = pd.read_csv(f'data/{data_folder}/images.csv', index_col=0)\n",
    "page_data = pd.read_csv(f'data/{data_folder}/page_data.csv', index_col=0)\n",
    "links = pd.read_csv(f'data/{data_folder}/links.csv')\n",
    "sites = pd.read_csv(f'data/{data_folder}/sites.csv', index_col=0)"
   ]
  },
  {
   "cell_type": "code",
   "execution_count": 4,
   "metadata": {},
   "outputs": [
    {
     "data": {
      "text/html": [
       "<div>\n",
       "<style scoped>\n",
       "    .dataframe tbody tr th:only-of-type {\n",
       "        vertical-align: middle;\n",
       "    }\n",
       "\n",
       "    .dataframe tbody tr th {\n",
       "        vertical-align: top;\n",
       "    }\n",
       "\n",
       "    .dataframe thead th {\n",
       "        text-align: right;\n",
       "    }\n",
       "</style>\n",
       "<table border=\"1\" class=\"dataframe\">\n",
       "  <thead>\n",
       "    <tr style=\"text-align: right;\">\n",
       "      <th></th>\n",
       "      <th>page_type_code</th>\n",
       "      <th>url</th>\n",
       "      <th>length</th>\n",
       "      <th>html_content_hash</th>\n",
       "      <th>http_status_code</th>\n",
       "      <th>accessed_time</th>\n",
       "      <th>domain</th>\n",
       "    </tr>\n",
       "    <tr>\n",
       "      <th>id</th>\n",
       "      <th></th>\n",
       "      <th></th>\n",
       "      <th></th>\n",
       "      <th></th>\n",
       "      <th></th>\n",
       "      <th></th>\n",
       "      <th></th>\n",
       "    </tr>\n",
       "  </thead>\n",
       "  <tbody>\n",
       "    <tr>\n",
       "      <th>73983</th>\n",
       "      <td>HTML</td>\n",
       "      <td>https://www.si-trust.gov.si/sl/podpora-uporabn...</td>\n",
       "      <td>13539.0</td>\n",
       "      <td>b0e891116f86198df70a11287088a24a</td>\n",
       "      <td>200.0</td>\n",
       "      <td>2020-03-31 23:06:26.005615</td>\n",
       "      <td>www.si-trust.gov.si</td>\n",
       "    </tr>\n",
       "    <tr>\n",
       "      <th>36</th>\n",
       "      <td>HTML</td>\n",
       "      <td>https://www.gov.si/zbirke/</td>\n",
       "      <td>14005.0</td>\n",
       "      <td>d9a92855c4dae8827117741d8e4b7933</td>\n",
       "      <td>200.0</td>\n",
       "      <td>2020-03-31 19:14:20.112569</td>\n",
       "      <td>www.gov.si</td>\n",
       "    </tr>\n",
       "    <tr>\n",
       "      <th>24</th>\n",
       "      <td>HTML</td>\n",
       "      <td>https://www.gov.si/zbirke/drzave/</td>\n",
       "      <td>19949.0</td>\n",
       "      <td>161b15f9e23e9ee5ccbface13bae9112</td>\n",
       "      <td>200.0</td>\n",
       "      <td>2020-03-31 19:13:25.225569</td>\n",
       "      <td>www.gov.si</td>\n",
       "    </tr>\n",
       "    <tr>\n",
       "      <th>44</th>\n",
       "      <td>HTML</td>\n",
       "      <td>http://evem.gov.si/info/poslujem/varnost-in-zd...</td>\n",
       "      <td>34478.0</td>\n",
       "      <td>cafbdcb2c45e8264b21da94a3be3c1ce</td>\n",
       "      <td>200.0</td>\n",
       "      <td>2020-03-31 19:15:23.895182</td>\n",
       "      <td>evem.gov.si</td>\n",
       "    </tr>\n",
       "    <tr>\n",
       "      <th>481</th>\n",
       "      <td>HTML</td>\n",
       "      <td>http://www.geoportal.gov.si/slo/novice/283/del...</td>\n",
       "      <td>16306.0</td>\n",
       "      <td>86dadc409d0c2b9087d536855713a70e</td>\n",
       "      <td>200.0</td>\n",
       "      <td>2020-03-31 19:29:21.99543</td>\n",
       "      <td>www.geoportal.gov.si</td>\n",
       "    </tr>\n",
       "    <tr>\n",
       "      <th>...</th>\n",
       "      <td>...</td>\n",
       "      <td>...</td>\n",
       "      <td>...</td>\n",
       "      <td>...</td>\n",
       "      <td>...</td>\n",
       "      <td>...</td>\n",
       "      <td>...</td>\n",
       "    </tr>\n",
       "    <tr>\n",
       "      <th>7936122</th>\n",
       "      <td>DUPLICATE</td>\n",
       "      <td>http://www.cilj3.mzip.gov.si/index.php%3Fid=59...</td>\n",
       "      <td>NaN</td>\n",
       "      <td>8a49241557795990907b7cc1e144aa81</td>\n",
       "      <td>200.0</td>\n",
       "      <td>2020-04-03 11:14:10.858952</td>\n",
       "      <td>www.cilj3.mzip.gov.si</td>\n",
       "    </tr>\n",
       "    <tr>\n",
       "      <th>7918655</th>\n",
       "      <td>DUPLICATE</td>\n",
       "      <td>http://www.cilj3.mzip.gov.si/index.php%3Fid=50...</td>\n",
       "      <td>NaN</td>\n",
       "      <td>3c24c34341352298970b48f439642816</td>\n",
       "      <td>200.0</td>\n",
       "      <td>2020-04-03 11:01:26.430021</td>\n",
       "      <td>www.cilj3.mzip.gov.si</td>\n",
       "    </tr>\n",
       "    <tr>\n",
       "      <th>7930996</th>\n",
       "      <td>DUPLICATE</td>\n",
       "      <td>http://www.cilj3.mzip.gov.si/index.php%3Fid=1&amp;...</td>\n",
       "      <td>NaN</td>\n",
       "      <td>1e342f8901d5042865c11e858ea4a3de</td>\n",
       "      <td>200.0</td>\n",
       "      <td>2020-04-03 11:10:57.039053</td>\n",
       "      <td>www.cilj3.mzip.gov.si</td>\n",
       "    </tr>\n",
       "    <tr>\n",
       "      <th>7935273</th>\n",
       "      <td>DUPLICATE</td>\n",
       "      <td>http://www.cilj3.mzip.gov.si/index.php%3Fid=50...</td>\n",
       "      <td>NaN</td>\n",
       "      <td>1057cd708e717cf3983e6abd818db397</td>\n",
       "      <td>200.0</td>\n",
       "      <td>2020-04-03 11:12:38.8249</td>\n",
       "      <td>www.cilj3.mzip.gov.si</td>\n",
       "    </tr>\n",
       "    <tr>\n",
       "      <th>7935824</th>\n",
       "      <td>DUPLICATE</td>\n",
       "      <td>http://www.cilj3.mzip.gov.si/index.php%3Fid=59...</td>\n",
       "      <td>NaN</td>\n",
       "      <td>1b2914770259df34d41f9cc03b1d145b</td>\n",
       "      <td>200.0</td>\n",
       "      <td>2020-04-03 11:13:51.370212</td>\n",
       "      <td>www.cilj3.mzip.gov.si</td>\n",
       "    </tr>\n",
       "  </tbody>\n",
       "</table>\n",
       "<p>277954 rows × 7 columns</p>\n",
       "</div>"
      ],
      "text/plain": [
       "        page_type_code                                                url  \\\n",
       "id                                                                          \n",
       "73983             HTML  https://www.si-trust.gov.si/sl/podpora-uporabn...   \n",
       "36                HTML                         https://www.gov.si/zbirke/   \n",
       "24                HTML                  https://www.gov.si/zbirke/drzave/   \n",
       "44                HTML  http://evem.gov.si/info/poslujem/varnost-in-zd...   \n",
       "481               HTML  http://www.geoportal.gov.si/slo/novice/283/del...   \n",
       "...                ...                                                ...   \n",
       "7936122      DUPLICATE  http://www.cilj3.mzip.gov.si/index.php%3Fid=59...   \n",
       "7918655      DUPLICATE  http://www.cilj3.mzip.gov.si/index.php%3Fid=50...   \n",
       "7930996      DUPLICATE  http://www.cilj3.mzip.gov.si/index.php%3Fid=1&...   \n",
       "7935273      DUPLICATE  http://www.cilj3.mzip.gov.si/index.php%3Fid=50...   \n",
       "7935824      DUPLICATE  http://www.cilj3.mzip.gov.si/index.php%3Fid=59...   \n",
       "\n",
       "          length                 html_content_hash  http_status_code  \\\n",
       "id                                                                     \n",
       "73983    13539.0  b0e891116f86198df70a11287088a24a             200.0   \n",
       "36       14005.0  d9a92855c4dae8827117741d8e4b7933             200.0   \n",
       "24       19949.0  161b15f9e23e9ee5ccbface13bae9112             200.0   \n",
       "44       34478.0  cafbdcb2c45e8264b21da94a3be3c1ce             200.0   \n",
       "481      16306.0  86dadc409d0c2b9087d536855713a70e             200.0   \n",
       "...          ...                               ...               ...   \n",
       "7936122      NaN  8a49241557795990907b7cc1e144aa81             200.0   \n",
       "7918655      NaN  3c24c34341352298970b48f439642816             200.0   \n",
       "7930996      NaN  1e342f8901d5042865c11e858ea4a3de             200.0   \n",
       "7935273      NaN  1057cd708e717cf3983e6abd818db397             200.0   \n",
       "7935824      NaN  1b2914770259df34d41f9cc03b1d145b             200.0   \n",
       "\n",
       "                      accessed_time                 domain  \n",
       "id                                                          \n",
       "73983    2020-03-31 23:06:26.005615    www.si-trust.gov.si  \n",
       "36       2020-03-31 19:14:20.112569             www.gov.si  \n",
       "24       2020-03-31 19:13:25.225569             www.gov.si  \n",
       "44       2020-03-31 19:15:23.895182            evem.gov.si  \n",
       "481       2020-03-31 19:29:21.99543   www.geoportal.gov.si  \n",
       "...                             ...                    ...  \n",
       "7936122  2020-04-03 11:14:10.858952  www.cilj3.mzip.gov.si  \n",
       "7918655  2020-04-03 11:01:26.430021  www.cilj3.mzip.gov.si  \n",
       "7930996  2020-04-03 11:10:57.039053  www.cilj3.mzip.gov.si  \n",
       "7935273    2020-04-03 11:12:38.8249  www.cilj3.mzip.gov.si  \n",
       "7935824  2020-04-03 11:13:51.370212  www.cilj3.mzip.gov.si  \n",
       "\n",
       "[277954 rows x 7 columns]"
      ]
     },
     "execution_count": 4,
     "metadata": {},
     "output_type": "execute_result"
    }
   ],
   "source": [
    "pages"
   ]
  },
  {
   "cell_type": "markdown",
   "metadata": {},
   "source": [
    "## Helper functions"
   ]
  },
  {
   "cell_type": "code",
   "execution_count": 5,
   "metadata": {},
   "outputs": [],
   "source": [
    "def count_values(values):\n",
    "    counts = pd.DataFrame({'count': values.value_counts()})\n",
    "    counts['relative'] = counts['count']/counts['count'].sum()\n",
    "    \n",
    "    return counts"
   ]
  },
  {
   "cell_type": "code",
   "execution_count": 6,
   "metadata": {},
   "outputs": [],
   "source": [
    "def annotate_bar(ax, annotations):\n",
    "    ax.margins(0.1)\n",
    "    for p, ann in zip(ax.patches, annotations): \n",
    "        ax.annotate(ann, \n",
    "                    (p.get_x()+p.get_width()/2., p.get_height()), \n",
    "                    ha='center', va='center', xytext=(0, 10), \n",
    "                    textcoords='offset points')"
   ]
  },
  {
   "cell_type": "markdown",
   "metadata": {},
   "source": [
    "## Analysis"
   ]
  },
  {
   "cell_type": "markdown",
   "metadata": {},
   "source": [
    "Number of pages"
   ]
  },
  {
   "cell_type": "code",
   "execution_count": 7,
   "metadata": {},
   "outputs": [
    {
     "name": "stdout",
     "output_type": "stream",
     "text": [
      "Total number of pages: 277954\n"
     ]
    }
   ],
   "source": [
    "all_pages = len(pages)\n",
    "\n",
    "print(f'Total number of pages: {all_pages}')"
   ]
  },
  {
   "cell_type": "code",
   "execution_count": 8,
   "metadata": {},
   "outputs": [],
   "source": [
    "html_pages = pages[pages.page_type_code == 'HTML']"
   ]
  },
  {
   "cell_type": "code",
   "execution_count": 9,
   "metadata": {},
   "outputs": [
    {
     "data": {
      "text/html": [
       "<div>\n",
       "<style scoped>\n",
       "    .dataframe tbody tr th:only-of-type {\n",
       "        vertical-align: middle;\n",
       "    }\n",
       "\n",
       "    .dataframe tbody tr th {\n",
       "        vertical-align: top;\n",
       "    }\n",
       "\n",
       "    .dataframe thead th {\n",
       "        text-align: right;\n",
       "    }\n",
       "</style>\n",
       "<table border=\"1\" class=\"dataframe\">\n",
       "  <thead>\n",
       "    <tr style=\"text-align: right;\">\n",
       "      <th></th>\n",
       "      <th>count</th>\n",
       "      <th>relative</th>\n",
       "    </tr>\n",
       "  </thead>\n",
       "  <tbody>\n",
       "    <tr>\n",
       "      <th>HTML</th>\n",
       "      <td>139685</td>\n",
       "      <td>0.526243</td>\n",
       "    </tr>\n",
       "    <tr>\n",
       "      <th>FRONTIER</th>\n",
       "      <td>103125</td>\n",
       "      <td>0.388509</td>\n",
       "    </tr>\n",
       "    <tr>\n",
       "      <th>BINARY</th>\n",
       "      <td>12243</td>\n",
       "      <td>0.046124</td>\n",
       "    </tr>\n",
       "    <tr>\n",
       "      <th>DUPLICATE</th>\n",
       "      <td>10385</td>\n",
       "      <td>0.039124</td>\n",
       "    </tr>\n",
       "  </tbody>\n",
       "</table>\n",
       "</div>"
      ],
      "text/plain": [
       "            count  relative\n",
       "HTML       139685  0.526243\n",
       "FRONTIER   103125  0.388509\n",
       "BINARY      12243  0.046124\n",
       "DUPLICATE   10385  0.039124"
      ]
     },
     "execution_count": 9,
     "metadata": {},
     "output_type": "execute_result"
    }
   ],
   "source": [
    "page_type_counts = count_values(pages.page_type_code)\n",
    "page_type_counts"
   ]
  },
  {
   "cell_type": "code",
   "execution_count": 10,
   "metadata": {},
   "outputs": [
    {
     "data": {
      "image/png": "[encoded data removed]",
      "text/plain": [
       "<Figure size 432x288 with 1 Axes>"
      ]
     },
     "metadata": {
      "needs_background": "light"
     },
     "output_type": "display_data"
    }
   ],
   "source": [
    "ax = page_type_counts['count'].plot.bar(title='Page types', rot=0)\n",
    "percentages = [f'{p:.2f}%' for p in (page_type_counts['relative'] * 100)]\n",
    "annotate_bar(ax, percentages)\n",
    "\n",
    "plt.savefig('figures/page_types.pdf')"
   ]
  },
  {
   "cell_type": "markdown",
   "metadata": {},
   "source": [
    "Domain counts"
   ]
  },
  {
   "cell_type": "code",
   "execution_count": 11,
   "metadata": {
    "scrolled": false
   },
   "outputs": [
    {
     "data": {
      "text/html": [
       "<div>\n",
       "<style scoped>\n",
       "    .dataframe tbody tr th:only-of-type {\n",
       "        vertical-align: middle;\n",
       "    }\n",
       "\n",
       "    .dataframe tbody tr th {\n",
       "        vertical-align: top;\n",
       "    }\n",
       "\n",
       "    .dataframe thead th {\n",
       "        text-align: right;\n",
       "    }\n",
       "</style>\n",
       "<table border=\"1\" class=\"dataframe\">\n",
       "  <thead>\n",
       "    <tr style=\"text-align: right;\">\n",
       "      <th></th>\n",
       "      <th>count</th>\n",
       "      <th>relative</th>\n",
       "    </tr>\n",
       "  </thead>\n",
       "  <tbody>\n",
       "    <tr>\n",
       "      <th>okolje.arso.gov.si</th>\n",
       "      <td>65011</td>\n",
       "      <td>0.233891</td>\n",
       "    </tr>\n",
       "    <tr>\n",
       "      <th>arsq.gov.si</th>\n",
       "      <td>37958</td>\n",
       "      <td>0.136562</td>\n",
       "    </tr>\n",
       "    <tr>\n",
       "      <th>www.gov.si</th>\n",
       "      <td>26127</td>\n",
       "      <td>0.093998</td>\n",
       "    </tr>\n",
       "    <tr>\n",
       "      <th>kpv.arso.gov.si</th>\n",
       "      <td>22371</td>\n",
       "      <td>0.080485</td>\n",
       "    </tr>\n",
       "    <tr>\n",
       "      <th>www.s-kzg.gov.si</th>\n",
       "      <td>14649</td>\n",
       "      <td>0.052703</td>\n",
       "    </tr>\n",
       "    <tr>\n",
       "      <th>...</th>\n",
       "      <td>...</td>\n",
       "      <td>...</td>\n",
       "    </tr>\n",
       "    <tr>\n",
       "      <th>emddsz.gov.si</th>\n",
       "      <td>1</td>\n",
       "      <td>0.000004</td>\n",
       "    </tr>\n",
       "    <tr>\n",
       "      <th>www.uvn.gov.si</th>\n",
       "      <td>1</td>\n",
       "      <td>0.000004</td>\n",
       "    </tr>\n",
       "    <tr>\n",
       "      <th>www.15let.gov.si</th>\n",
       "      <td>1</td>\n",
       "      <td>0.000004</td>\n",
       "    </tr>\n",
       "    <tr>\n",
       "      <th>upravneenote.arhiv-spletisc.gov.si</th>\n",
       "      <td>1</td>\n",
       "      <td>0.000004</td>\n",
       "    </tr>\n",
       "    <tr>\n",
       "      <th>uppd.arhiv-spletisc.gov.si</th>\n",
       "      <td>1</td>\n",
       "      <td>0.000004</td>\n",
       "    </tr>\n",
       "  </tbody>\n",
       "</table>\n",
       "<p>354 rows × 2 columns</p>\n",
       "</div>"
      ],
      "text/plain": [
       "                                    count  relative\n",
       "okolje.arso.gov.si                  65011  0.233891\n",
       "arsq.gov.si                         37958  0.136562\n",
       "www.gov.si                          26127  0.093998\n",
       "kpv.arso.gov.si                     22371  0.080485\n",
       "www.s-kzg.gov.si                    14649  0.052703\n",
       "...                                   ...       ...\n",
       "emddsz.gov.si                           1  0.000004\n",
       "www.uvn.gov.si                          1  0.000004\n",
       "www.15let.gov.si                        1  0.000004\n",
       "upravneenote.arhiv-spletisc.gov.si      1  0.000004\n",
       "uppd.arhiv-spletisc.gov.si              1  0.000004\n",
       "\n",
       "[354 rows x 2 columns]"
      ]
     },
     "execution_count": 11,
     "metadata": {},
     "output_type": "execute_result"
    }
   ],
   "source": [
    "site_count = count_values(pages.domain)\n",
    "site_count"
   ]
  },
  {
   "cell_type": "code",
   "execution_count": 12,
   "metadata": {},
   "outputs": [
    {
     "data": {
      "image/png": "[encoded data removed]",
      "text/plain": [
       "<Figure size 720x360 with 1 Axes>"
      ]
     },
     "metadata": {
      "needs_background": "light"
     },
     "output_type": "display_data"
    }
   ],
   "source": [
    "ax = site_count.iloc[:10]['count'].plot.bar(figsize=(10,5), title='Top sites', rot=45)\n",
    "\n",
    "percentages = [f'{p:.2f}%' for p in (site_count.iloc[:10]['relative'] * 100)]\n",
    "annotate_bar(ax, percentages)\n",
    "\n",
    "plt.savefig('figures/sites.pdf')"
   ]
  },
  {
   "cell_type": "markdown",
   "metadata": {},
   "source": [
    "### Links summaries"
   ]
  },
  {
   "cell_type": "code",
   "execution_count": 13,
   "metadata": {
    "scrolled": false
   },
   "outputs": [
    {
     "data": {
      "text/html": [
       "<div>\n",
       "<style scoped>\n",
       "    .dataframe tbody tr th:only-of-type {\n",
       "        vertical-align: middle;\n",
       "    }\n",
       "\n",
       "    .dataframe tbody tr th {\n",
       "        vertical-align: top;\n",
       "    }\n",
       "\n",
       "    .dataframe thead th {\n",
       "        text-align: right;\n",
       "    }\n",
       "</style>\n",
       "<table border=\"1\" class=\"dataframe\">\n",
       "  <thead>\n",
       "    <tr style=\"text-align: right;\">\n",
       "      <th></th>\n",
       "      <th>page_id</th>\n",
       "      <th>data_type_code</th>\n",
       "      <th>url</th>\n",
       "    </tr>\n",
       "    <tr>\n",
       "      <th>id</th>\n",
       "      <th></th>\n",
       "      <th></th>\n",
       "      <th></th>\n",
       "    </tr>\n",
       "  </thead>\n",
       "  <tbody>\n",
       "    <tr>\n",
       "      <th>1</th>\n",
       "      <td>4</td>\n",
       "      <td>PDF</td>\n",
       "      <td>https://www.e-prostor.gov.si/fileadmin/Spletni...</td>\n",
       "    </tr>\n",
       "    <tr>\n",
       "      <th>2</th>\n",
       "      <td>4</td>\n",
       "      <td>DOC</td>\n",
       "      <td>https://www.e-prostor.gov.si/fileadmin/narocan...</td>\n",
       "    </tr>\n",
       "    <tr>\n",
       "      <th>3</th>\n",
       "      <td>52</td>\n",
       "      <td>DOC</td>\n",
       "      <td>https://www.mvn.e-prostor.gov.si/fileadmin/use...</td>\n",
       "    </tr>\n",
       "    <tr>\n",
       "      <th>4</th>\n",
       "      <td>52</td>\n",
       "      <td>PDF</td>\n",
       "      <td>https://www.mvn.e-prostor.gov.si/fileadmin/use...</td>\n",
       "    </tr>\n",
       "    <tr>\n",
       "      <th>5</th>\n",
       "      <td>52</td>\n",
       "      <td>PDF</td>\n",
       "      <td>https://www.mvn.e-prostor.gov.si/fileadmin/use...</td>\n",
       "    </tr>\n",
       "    <tr>\n",
       "      <th>...</th>\n",
       "      <td>...</td>\n",
       "      <td>...</td>\n",
       "      <td>...</td>\n",
       "    </tr>\n",
       "    <tr>\n",
       "      <th>101349</th>\n",
       "      <td>7928907</td>\n",
       "      <td>PDF</td>\n",
       "      <td>https://www.gov.si/assets/organi-v-sestavi/UPP...</td>\n",
       "    </tr>\n",
       "    <tr>\n",
       "      <th>101350</th>\n",
       "      <td>7928907</td>\n",
       "      <td>PDF</td>\n",
       "      <td>https://www.gov.si/assets/organi-v-sestavi/IJS...</td>\n",
       "    </tr>\n",
       "    <tr>\n",
       "      <th>101351</th>\n",
       "      <td>7928907</td>\n",
       "      <td>PDF</td>\n",
       "      <td>https://www.gov.si/assets/organi-v-sestavi/URS...</td>\n",
       "    </tr>\n",
       "    <tr>\n",
       "      <th>101352</th>\n",
       "      <td>7928907</td>\n",
       "      <td>PDF</td>\n",
       "      <td>https://www.gov.si/assets/organi-v-sestavi/UPP...</td>\n",
       "    </tr>\n",
       "    <tr>\n",
       "      <th>101353</th>\n",
       "      <td>7940108</td>\n",
       "      <td>PDF</td>\n",
       "      <td>http://www.alpine-space.eu/news-events/procure...</td>\n",
       "    </tr>\n",
       "  </tbody>\n",
       "</table>\n",
       "<p>101353 rows × 3 columns</p>\n",
       "</div>"
      ],
      "text/plain": [
       "        page_id data_type_code  \\\n",
       "id                               \n",
       "1             4            PDF   \n",
       "2             4            DOC   \n",
       "3            52            DOC   \n",
       "4            52            PDF   \n",
       "5            52            PDF   \n",
       "...         ...            ...   \n",
       "101349  7928907            PDF   \n",
       "101350  7928907            PDF   \n",
       "101351  7928907            PDF   \n",
       "101352  7928907            PDF   \n",
       "101353  7940108            PDF   \n",
       "\n",
       "                                                      url  \n",
       "id                                                         \n",
       "1       https://www.e-prostor.gov.si/fileadmin/Spletni...  \n",
       "2       https://www.e-prostor.gov.si/fileadmin/narocan...  \n",
       "3       https://www.mvn.e-prostor.gov.si/fileadmin/use...  \n",
       "4       https://www.mvn.e-prostor.gov.si/fileadmin/use...  \n",
       "5       https://www.mvn.e-prostor.gov.si/fileadmin/use...  \n",
       "...                                                   ...  \n",
       "101349  https://www.gov.si/assets/organi-v-sestavi/UPP...  \n",
       "101350  https://www.gov.si/assets/organi-v-sestavi/IJS...  \n",
       "101351  https://www.gov.si/assets/organi-v-sestavi/URS...  \n",
       "101352  https://www.gov.si/assets/organi-v-sestavi/UPP...  \n",
       "101353  http://www.alpine-space.eu/news-events/procure...  \n",
       "\n",
       "[101353 rows x 3 columns]"
      ]
     },
     "execution_count": 13,
     "metadata": {},
     "output_type": "execute_result"
    }
   ],
   "source": [
    "page_data"
   ]
  },
  {
   "cell_type": "code",
   "execution_count": 14,
   "metadata": {
    "scrolled": true
   },
   "outputs": [
    {
     "data": {
      "text/html": [
       "<div>\n",
       "<style scoped>\n",
       "    .dataframe tbody tr th:only-of-type {\n",
       "        vertical-align: middle;\n",
       "    }\n",
       "\n",
       "    .dataframe tbody tr th {\n",
       "        vertical-align: top;\n",
       "    }\n",
       "\n",
       "    .dataframe thead th {\n",
       "        text-align: right;\n",
       "    }\n",
       "</style>\n",
       "<table border=\"1\" class=\"dataframe\">\n",
       "  <thead>\n",
       "    <tr style=\"text-align: right;\">\n",
       "      <th></th>\n",
       "      <th>out_links</th>\n",
       "      <th>in_links</th>\n",
       "      <th>images</th>\n",
       "      <th>data_files</th>\n",
       "    </tr>\n",
       "  </thead>\n",
       "  <tbody>\n",
       "    <tr>\n",
       "      <th>count</th>\n",
       "      <td>139685.000000</td>\n",
       "      <td>139685.000000</td>\n",
       "      <td>139685.000000</td>\n",
       "      <td>139685.000000</td>\n",
       "    </tr>\n",
       "    <tr>\n",
       "      <th>mean</th>\n",
       "      <td>64.359215</td>\n",
       "      <td>61.574693</td>\n",
       "      <td>6.740065</td>\n",
       "      <td>0.671804</td>\n",
       "    </tr>\n",
       "    <tr>\n",
       "      <th>std</th>\n",
       "      <td>114.065174</td>\n",
       "      <td>528.600448</td>\n",
       "      <td>6.743635</td>\n",
       "      <td>5.642136</td>\n",
       "    </tr>\n",
       "    <tr>\n",
       "      <th>min</th>\n",
       "      <td>0.000000</td>\n",
       "      <td>0.000000</td>\n",
       "      <td>0.000000</td>\n",
       "      <td>0.000000</td>\n",
       "    </tr>\n",
       "    <tr>\n",
       "      <th>25%</th>\n",
       "      <td>14.000000</td>\n",
       "      <td>2.000000</td>\n",
       "      <td>2.000000</td>\n",
       "      <td>0.000000</td>\n",
       "    </tr>\n",
       "    <tr>\n",
       "      <th>50%</th>\n",
       "      <td>30.000000</td>\n",
       "      <td>3.000000</td>\n",
       "      <td>5.000000</td>\n",
       "      <td>0.000000</td>\n",
       "    </tr>\n",
       "    <tr>\n",
       "      <th>75%</th>\n",
       "      <td>50.000000</td>\n",
       "      <td>9.000000</td>\n",
       "      <td>11.000000</td>\n",
       "      <td>0.000000</td>\n",
       "    </tr>\n",
       "    <tr>\n",
       "      <th>max</th>\n",
       "      <td>2309.000000</td>\n",
       "      <td>43660.000000</td>\n",
       "      <td>412.000000</td>\n",
       "      <td>786.000000</td>\n",
       "    </tr>\n",
       "  </tbody>\n",
       "</table>\n",
       "</div>"
      ],
      "text/plain": [
       "           out_links       in_links         images     data_files\n",
       "count  139685.000000  139685.000000  139685.000000  139685.000000\n",
       "mean       64.359215      61.574693       6.740065       0.671804\n",
       "std       114.065174     528.600448       6.743635       5.642136\n",
       "min         0.000000       0.000000       0.000000       0.000000\n",
       "25%        14.000000       2.000000       2.000000       0.000000\n",
       "50%        30.000000       3.000000       5.000000       0.000000\n",
       "75%        50.000000       9.000000      11.000000       0.000000\n",
       "max      2309.000000   43660.000000     412.000000     786.000000"
      ]
     },
     "execution_count": 14,
     "metadata": {},
     "output_type": "execute_result"
    }
   ],
   "source": [
    "link_counts = pd.DataFrame({\n",
    "    'out_links': links.from_page.value_counts(),\n",
    "    'in_links': links.to_page.value_counts(),\n",
    "    'images': images.page_id.value_counts(),\n",
    "    'data_files': page_data.page_id.value_counts(),\n",
    "})\n",
    "link_counts = link_counts.loc[html_pages.index]\n",
    "link_counts = link_counts.fillna(0)\n",
    "link_counts.describe()"
   ]
  },
  {
   "cell_type": "code",
   "execution_count": 15,
   "metadata": {
    "scrolled": false
   },
   "outputs": [
    {
     "data": {
      "text/plain": [
       "<matplotlib.axes._subplots.AxesSubplot at 0x11e349490>"
      ]
     },
     "execution_count": 15,
     "metadata": {},
     "output_type": "execute_result"
    },
    {
     "data": {
      "image/png": "[encoded data removed]",
      "text/plain": [
       "<Figure size 720x360 with 1 Axes>"
      ]
     },
     "metadata": {
      "needs_background": "light"
     },
     "output_type": "display_data"
    }
   ],
   "source": [
    "link_counts.plot.box(showfliers=False, figsize=(10,5), title='Number of links by type')\n",
    "plt.savefig('figures/link_types.pdf')"
   ]
  },
  {
   "cell_type": "markdown",
   "metadata": {},
   "source": [
    "Pages with maximum number of links by type"
   ]
  },
  {
   "cell_type": "code",
   "execution_count": 57,
   "metadata": {},
   "outputs": [],
   "source": [
    "max_out = link_counts.index[link_counts.out_links.argmax()]\n",
    "max_in = link_counts.index[link_counts.in_links.argmax()]\n",
    "max_images = link_counts.index[link_counts.images.argmax()]\n",
    "max_data = link_counts.index[link_counts.data_files.argmax()]"
   ]
  },
  {
   "cell_type": "code",
   "execution_count": 66,
   "metadata": {},
   "outputs": [
    {
     "name": "stdout",
     "output_type": "stream",
     "text": [
      "Max out links: http://evem.gov.si/info/podpogoji/\n",
      "Max in links: http://www.arso.gov.si/\n",
      "Max images: http://meteo.arso.gov.si/met/en/watercycle/maps/growa_si\n",
      "Max data links: https://www.gov.si/drzavni-organi/ministrstva/ministrstvo-za-kmetijstvo-gozdarstvo-in-prehrano/o-ministrstvu/seznami-certificiranih-proizvajalcev/\n"
     ]
    }
   ],
   "source": [
    "print(f'Max out links: {pages.loc[max_out].url}')\n",
    "print(f'Max in links: {pages.loc[max_in].url}')\n",
    "print(f'Max images: {pages.loc[max_images].url}')\n",
    "print(f'Max data links: {pages.loc[max_data].url}')"
   ]
  },
  {
   "cell_type": "markdown",
   "metadata": {},
   "source": [
    "### Page data analysis"
   ]
  },
  {
   "cell_type": "code",
   "execution_count": 16,
   "metadata": {
    "scrolled": false
   },
   "outputs": [
    {
     "data": {
      "text/html": [
       "<div>\n",
       "<style scoped>\n",
       "    .dataframe tbody tr th:only-of-type {\n",
       "        vertical-align: middle;\n",
       "    }\n",
       "\n",
       "    .dataframe tbody tr th {\n",
       "        vertical-align: top;\n",
       "    }\n",
       "\n",
       "    .dataframe thead th {\n",
       "        text-align: right;\n",
       "    }\n",
       "</style>\n",
       "<table border=\"1\" class=\"dataframe\">\n",
       "  <thead>\n",
       "    <tr style=\"text-align: right;\">\n",
       "      <th></th>\n",
       "      <th>page_id</th>\n",
       "      <th>data_type_code</th>\n",
       "      <th>url</th>\n",
       "    </tr>\n",
       "    <tr>\n",
       "      <th>id</th>\n",
       "      <th></th>\n",
       "      <th></th>\n",
       "      <th></th>\n",
       "    </tr>\n",
       "  </thead>\n",
       "  <tbody>\n",
       "    <tr>\n",
       "      <th>1</th>\n",
       "      <td>4</td>\n",
       "      <td>PDF</td>\n",
       "      <td>https://www.e-prostor.gov.si/fileadmin/Spletni...</td>\n",
       "    </tr>\n",
       "    <tr>\n",
       "      <th>2</th>\n",
       "      <td>4</td>\n",
       "      <td>DOC</td>\n",
       "      <td>https://www.e-prostor.gov.si/fileadmin/narocan...</td>\n",
       "    </tr>\n",
       "    <tr>\n",
       "      <th>3</th>\n",
       "      <td>52</td>\n",
       "      <td>DOC</td>\n",
       "      <td>https://www.mvn.e-prostor.gov.si/fileadmin/use...</td>\n",
       "    </tr>\n",
       "    <tr>\n",
       "      <th>4</th>\n",
       "      <td>52</td>\n",
       "      <td>PDF</td>\n",
       "      <td>https://www.mvn.e-prostor.gov.si/fileadmin/use...</td>\n",
       "    </tr>\n",
       "    <tr>\n",
       "      <th>5</th>\n",
       "      <td>52</td>\n",
       "      <td>PDF</td>\n",
       "      <td>https://www.mvn.e-prostor.gov.si/fileadmin/use...</td>\n",
       "    </tr>\n",
       "  </tbody>\n",
       "</table>\n",
       "</div>"
      ],
      "text/plain": [
       "    page_id data_type_code                                                url\n",
       "id                                                                           \n",
       "1         4            PDF  https://www.e-prostor.gov.si/fileadmin/Spletni...\n",
       "2         4            DOC  https://www.e-prostor.gov.si/fileadmin/narocan...\n",
       "3        52            DOC  https://www.mvn.e-prostor.gov.si/fileadmin/use...\n",
       "4        52            PDF  https://www.mvn.e-prostor.gov.si/fileadmin/use...\n",
       "5        52            PDF  https://www.mvn.e-prostor.gov.si/fileadmin/use..."
      ]
     },
     "execution_count": 16,
     "metadata": {},
     "output_type": "execute_result"
    }
   ],
   "source": [
    "page_data.head()"
   ]
  },
  {
   "cell_type": "code",
   "execution_count": 17,
   "metadata": {},
   "outputs": [
    {
     "data": {
      "text/html": [
       "<div>\n",
       "<style scoped>\n",
       "    .dataframe tbody tr th:only-of-type {\n",
       "        vertical-align: middle;\n",
       "    }\n",
       "\n",
       "    .dataframe tbody tr th {\n",
       "        vertical-align: top;\n",
       "    }\n",
       "\n",
       "    .dataframe thead th {\n",
       "        text-align: right;\n",
       "    }\n",
       "</style>\n",
       "<table border=\"1\" class=\"dataframe\">\n",
       "  <thead>\n",
       "    <tr style=\"text-align: right;\">\n",
       "      <th></th>\n",
       "      <th>count</th>\n",
       "      <th>relative</th>\n",
       "    </tr>\n",
       "  </thead>\n",
       "  <tbody>\n",
       "    <tr>\n",
       "      <th>PDF</th>\n",
       "      <td>84689</td>\n",
       "      <td>0.835585</td>\n",
       "    </tr>\n",
       "    <tr>\n",
       "      <th>DOC</th>\n",
       "      <td>10266</td>\n",
       "      <td>0.101290</td>\n",
       "    </tr>\n",
       "    <tr>\n",
       "      <th>DOCX</th>\n",
       "      <td>5804</td>\n",
       "      <td>0.057265</td>\n",
       "    </tr>\n",
       "    <tr>\n",
       "      <th>PPT</th>\n",
       "      <td>373</td>\n",
       "      <td>0.003680</td>\n",
       "    </tr>\n",
       "    <tr>\n",
       "      <th>PPTX</th>\n",
       "      <td>221</td>\n",
       "      <td>0.002180</td>\n",
       "    </tr>\n",
       "  </tbody>\n",
       "</table>\n",
       "</div>"
      ],
      "text/plain": [
       "      count  relative\n",
       "PDF   84689  0.835585\n",
       "DOC   10266  0.101290\n",
       "DOCX   5804  0.057265\n",
       "PPT     373  0.003680\n",
       "PPTX    221  0.002180"
      ]
     },
     "execution_count": 17,
     "metadata": {},
     "output_type": "execute_result"
    }
   ],
   "source": [
    "data_type_counts = count_values(page_data.data_type_code)\n",
    "data_type_counts"
   ]
  },
  {
   "cell_type": "code",
   "execution_count": 18,
   "metadata": {},
   "outputs": [
    {
     "data": {
      "image/png": "[encoded data removed]",
      "text/plain": [
       "<Figure size 432x288 with 1 Axes>"
      ]
     },
     "metadata": {
      "needs_background": "light"
     },
     "output_type": "display_data"
    }
   ],
   "source": [
    "ax = data_type_counts['count'].plot.bar()\n",
    "percentages = [f'{p:.2f}%' for p in (data_type_counts['relative'] * 100)]\n",
    "annotate_bar(ax, percentages)\n",
    "\n",
    "plt.savefig('figures/data_types.pdf')"
   ]
  },
  {
   "cell_type": "markdown",
   "metadata": {},
   "source": [
    "### HTML content size"
   ]
  },
  {
   "cell_type": "code",
   "execution_count": 19,
   "metadata": {},
   "outputs": [
    {
     "data": {
      "text/plain": [
       "count    139685.000000\n",
       "mean          0.044298\n",
       "std           0.098127\n",
       "min           0.000037\n",
       "25%           0.013473\n",
       "50%           0.018744\n",
       "75%           0.043734\n",
       "max           4.911660\n",
       "Name: length, dtype: float64"
      ]
     },
     "execution_count": 19,
     "metadata": {},
     "output_type": "execute_result"
    }
   ],
   "source": [
    "mb_length = html_pages.length / 1024 / 1024\n",
    "mb_length.describe()"
   ]
  },
  {
   "cell_type": "code",
   "execution_count": 20,
   "metadata": {
    "scrolled": true
   },
   "outputs": [
    {
     "data": {
      "image/png": "[encoded data removed]",
      "text/plain": [
       "<Figure size 432x288 with 1 Axes>"
      ]
     },
     "metadata": {
      "needs_background": "light"
     },
     "output_type": "display_data"
    }
   ],
   "source": [
    "ax = mb_length.plot.hist(log=True, title='HTML content length')\n",
    "ax.set(xlabel='Length [MB]', ylabel='Frequency (log scale)')\n",
    "freqs = [int(p.get_height()) for p in ax.patches]\n",
    "annotate_bar(ax, freqs)\n",
    "plt.savefig('figures/sizes.pdf')"
   ]
  },
  {
   "cell_type": "code",
   "execution_count": 21,
   "metadata": {},
   "outputs": [
    {
     "data": {
      "image/png": "[encoded data removed]",
      "text/plain": [
       "<Figure size 432x288 with 1 Axes>"
      ]
     },
     "metadata": {
      "needs_background": "light"
     },
     "output_type": "display_data"
    }
   ],
   "source": [
    "ax = mb_length[mb_length<0.5].plot.hist(bins=10, log=True, title='HTML content length (without outliers)')\n",
    "ax.set(xlabel='Length [MB]', ylabel='Frequency (log scale)')\n",
    "freqs = [int(p.get_height()) for p in ax.patches]\n",
    "annotate_bar(ax, freqs)\n",
    "plt.savefig('figures/sizes_zoomed.pdf')"
   ]
  },
  {
   "cell_type": "code",
   "execution_count": 90,
   "metadata": {},
   "outputs": [
    {
     "data": {
      "text/plain": [
       "(4331.10583114624, 33521)"
      ]
     },
     "execution_count": 90,
     "metadata": {},
     "output_type": "execute_result"
    }
   ],
   "source": [
    "m = html_pages.length > 4.644942e+04\n",
    "html_pages[m].length.sum()/1024/1024, sum(m)"
   ]
  },
  {
   "cell_type": "code",
   "execution_count": 89,
   "metadata": {},
   "outputs": [
    {
     "data": {
      "text/plain": [
       "(1856.6069011688232, 106164)"
      ]
     },
     "execution_count": 89,
     "metadata": {},
     "output_type": "execute_result"
    }
   ],
   "source": [
    "m = html_pages.length < 4.644942e+04\n",
    "html_pages[m].length.sum()/1024/1024, sum(m)"
   ]
  },
  {
   "cell_type": "code",
   "execution_count": 34,
   "metadata": {},
   "outputs": [],
   "source": [
    "total_size = html_pages.length.sum()"
   ]
  },
  {
   "cell_type": "code",
   "execution_count": 42,
   "metadata": {},
   "outputs": [
    {
     "data": {
      "text/plain": [
       "139685"
      ]
     },
     "execution_count": 42,
     "metadata": {},
     "output_type": "execute_result"
    }
   ],
   "source": [
    "len(html_pages)"
   ]
  },
  {
   "cell_type": "code",
   "execution_count": 41,
   "metadata": {},
   "outputs": [
    {
     "data": {
      "text/plain": [
       "6187.7127323150635"
      ]
     },
     "execution_count": 41,
     "metadata": {},
     "output_type": "execute_result"
    }
   ],
   "source": [
    "total_size / 1024 / 1024"
   ]
  },
  {
   "cell_type": "code",
   "execution_count": 43,
   "metadata": {},
   "outputs": [],
   "source": [
    "html_pages_sorted = html_pages.sort_values('length', ascending=False)\n",
    "size_cumsum = html_pages_sorted.length.cumsum()"
   ]
  },
  {
   "cell_type": "code",
   "execution_count": 51,
   "metadata": {},
   "outputs": [
    {
     "data": {
      "text/plain": [
       "(array([ 81843,  81844,  81845, ..., 139682, 139683, 139684]),)"
      ]
     },
     "execution_count": 51,
     "metadata": {},
     "output_type": "execute_result"
    }
   ],
   "source": [
    "np.where(size_cumsum > 0.9 * total_size)"
   ]
  },
  {
   "cell_type": "code",
   "execution_count": 53,
   "metadata": {
    "scrolled": true
   },
   "outputs": [
    {
     "data": {
      "text/plain": [
       "0.5815751327917587"
      ]
     },
     "execution_count": 53,
     "metadata": {},
     "output_type": "execute_result"
    }
   ],
   "source": [
    "size_cumsum.iloc[20000] / total_size"
   ]
  }
 ],
 "metadata": {
  "kernelspec": {
   "display_name": "Python 3",
   "language": "python",
   "name": "python3"
  },
  "language_info": {
   "codemirror_mode": {
    "name": "ipython",
    "version": 3
   },
   "file_extension": ".py",
   "mimetype": "text/x-python",
   "name": "python",
   "nbconvert_exporter": "python",
   "pygments_lexer": "ipython3",
   "version": "3.7.4"
  }
 },
 "nbformat": 4,
 "nbformat_minor": 2
}
